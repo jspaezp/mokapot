{
 "cells": [
  {
   "cell_type": "markdown",
   "metadata": {},
   "source": [
    "# First steps using mokapot in Python\n",
    "\n",
    "In this vignette, we'll look at the basics of how to use mokapot as a Python package. We've performed these analyses within a [Jupyter notebook](https://jupyter.org/), which is available using the link at the top of the page.\n",
    "\n",
    "## Following along locally\n",
    "\n",
    "To run this notebook, you'll need to have [mokapot](https://mokapot.readthedocs.io/en/latest/#installation) installed. Additionally, you'll need to have a file in the [Percolator tab-delimited format](https://github.com/percolator/percolator/wiki/Interface#tab-delimited-file-format) on hand. The example we'll be using comes from running [tide-search](http://crux.ms/tide-search) on a single phosphoproteomics experiment from: \n",
    "\n",
    "> Hogrebe, Alexander et al. “Benchmarking common quantification strategies for large-scale phosphoproteomics.” Nature communications vol. 9,1 1045. 13 Mar. 2018, doi:10.1038/s41467-018-03309-6\n",
    "\n",
    "If you need it, you can download it from the mokapot repository here ([phospho_rep1.pin](https://raw.githubusercontent.com/wfondrie/mokapot/master/data/phospho_rep1.pin)) and set the path to your input file:"
   ]
  },
  {
   "cell_type": "code",
   "execution_count": 1,
   "metadata": {},
   "outputs": [],
   "source": [
    "from pathlib import Path\n",
    "pin_file = Path(\"../../../data/phospho_rep1.pin\")"
   ]
  },
  {
   "cell_type": "markdown",
   "metadata": {},
   "source": [
    "Additionally, we'll need the FASTA file used for the database search to perform protein-level confidence estimates. Critically, this file must include both target and decoy protein sequences. The correct FASTA file for the above example can also be downloaded from the mokapot repository ([human_sp_td.fasta](https://raw.githubusercontent.com/wfondrie/mokapot/master/data/human_sp_td.fasta)). Once downloaded, you can define the path to your FASTA file to follow along:"
   ]
  },
  {
   "cell_type": "code",
   "execution_count": 2,
   "metadata": {},
   "outputs": [],
   "source": [
    "fasta_file = Path(\"../../../data/human_sp_td.fasta\")"
   ]
  },
  {
   "cell_type": "markdown",
   "metadata": {},
   "source": [
    "## Step 1: Setup our Python environment\n",
    "\n",
    "Before we can perform an anlyses we need to import the Python packages that we'll be using. Additionally, it's a good idea to set the random seed for reproducibility."
   ]
  },
  {
   "cell_type": "code",
   "execution_count": 3,
   "metadata": {},
   "outputs": [],
   "source": [
    "import mokapot\n",
    "import numpy as np\n",
    "import matplotlib.pyplot as plt\n",
    "\n",
    "# Set the random seed:\n",
    "np.random.seed(42)\n",
    "\n",
    "# Create an output directory\n",
    "out_dir = Path(\"basic_python_api_output\")\n",
    "out_dir.mkdir(exist_ok=True)\n",
    "mokapot_outs = (out_dir / \"mokapot\")\n",
    "mokapot_outs.mkdir(exist_ok=True)\n",
    "tide_outs = (out_dir / \"tide\")\n",
    "tide_outs.mkdir(exist_ok=True)"
   ]
  },
  {
   "cell_type": "markdown",
   "metadata": {},
   "source": [
    "If we want messages about the mokapot's progress throughout the analysis, then we need to enable it using the `logging` module: "
   ]
  },
  {
   "cell_type": "code",
   "execution_count": 4,
   "metadata": {},
   "outputs": [],
   "source": [
    "import logging\n",
    "\n",
    "# Change to True enable messages and nicely format them:\n",
    "log = False\n",
    "if log:\n",
    "    logging.basicConfig(\n",
    "        level=logging.INFO,\n",
    "        format=\"%(levelname)s: %(message)s\",\n",
    "    )"
   ]
  },
  {
   "cell_type": "markdown",
   "metadata": {},
   "source": [
    "## Step 2: Read the PSMs\n",
    "\n",
    "We'll now use mokapot to read the PSMs from the provided input file. The [read_pin()](https://mokapot.readthedocs.io/en/latest/api/functions.html#mokapot.read_pin) function returns a list of [LinearPsmDataset](https://mokapot.readthedocs.io/en/latest/api/dataset.html#mokapot.dataset.LinearPsmDataset) object, which stores the PSMs and their associated features for analysis."
   ]
  },
  {
   "cell_type": "code",
   "execution_count": 5,
   "metadata": {},
   "outputs": [
    {
     "data": {
      "text/plain": [
       "[OnDiskPsmDataset object\n",
       " Reader: CSVFileReader(self.file_name=PosixPath('../../../data/phospho_rep1.pin'))\n",
       " Spectrum columns: ['ScanNr', 'ExpMass']\n",
       " Peptide column: Peptide\n",
       " Protein column: Proteins\n",
       " Feature columns: ['lnrSp', 'deltLCn', 'deltCn', 'Sp', 'IonFrac', 'RefactoredXCorr', 'NegLog10PValue', 'NegLog10ResEvPValue', 'NegLog10CombinePValue', 'PepLen', 'Charge1', 'Charge2', 'Charge3', 'Charge4', 'Charge5', 'enzN', 'enzC', 'enzInt', 'lnNumDSP', 'dM', 'absdM']\n",
       " Metadata columns: ['SpecId', 'ScanNr', 'Peptide', 'Proteins', 'Label', 'CalcMass', 'ExpMass']\n",
       " Metadata columns types: [dtype('O'), dtype('int64'), dtype('O'), dtype('O'), dtype('int64'), dtype('float64'), dtype('float64')]\n",
       " Level columns: ['Peptide']\n",
       " Filename column: None\n",
       " Scan column: ScanNr\n",
       " Calcmass column: CalcMass\n",
       " Expmass column: ExpMass\n",
       " Rt column: None\n",
       " Charge column: None\n",
       " Spectra DF: \n",
       "        ScanNr    ExpMass  Label\n",
       " 0       16619   750.4149   True\n",
       " 1        2025   751.4212   True\n",
       " 2        1598   751.4223   True\n",
       " 3        9595   750.4153   True\n",
       " 4        8281   749.4421   True\n",
       " ...       ...        ...    ...\n",
       " 55393   59499  6392.0034  False\n",
       " 55394   62362  6455.8178  False\n",
       " 55395   61067  6603.0532  False\n",
       " 55396   62418  6684.0410  False\n",
       " 55397   45960  6734.9956  False\n",
       " \n",
       " [55398 rows x 3 columns]]"
      ]
     },
     "execution_count": 5,
     "metadata": {},
     "output_type": "execute_result"
    }
   ],
   "source": [
    "psms = mokapot.read_pin(pin_file, max_workers=1)\n",
    "psms"
   ]
  },
  {
   "cell_type": "markdown",
   "metadata": {},
   "source": [
    "### Optional: Add proteins\n",
    "mokapot uses the [picked-protein approach](https://www.mcponline.org/content/14/9/2394.long) to assign accurate protein-level confidence estimates. To do this, you'll need to provide the FASTA file used for your database search (including decoy sequences) and supply the parameters that match the digestion conditions you searched."
   ]
  },
  {
   "cell_type": "code",
   "execution_count": 6,
   "metadata": {},
   "outputs": [],
   "source": [
    "from mokapot.parsers.fasta import read_fasta\n",
    "\n",
    "proteins = read_fasta(fasta_file)"
   ]
  },
  {
   "cell_type": "markdown",
   "metadata": {},
   "source": [
    "## Step 3: Analyze the PSMs\n",
    "\n",
    "After that the PSMs have been loaded, we can use the [brew()](https://mokapot.readthedocs.io/en/latest/api/functions.html#mokapot.brew) function to run the analysis and re-score the PSMs. This returns a [LinearConfidence](https://mokapot.readthedocs.io/en/latest/api/confidence.html#mokapot.confidence.LinearConfidence) object, which calculates confidences estimates and stores them."
   ]
  },
  {
   "cell_type": "code",
   "execution_count": 7,
   "metadata": {},
   "outputs": [],
   "source": [
    "# moka_conf, models = mokapot.brew(psms)\n",
    "models, scores = mokapot.brew(psms)"
   ]
  },
  {
   "cell_type": "code",
   "execution_count": 8,
   "metadata": {},
   "outputs": [
    {
     "name": "stderr",
     "output_type": "stream",
     "text": [
      "/Users/sebastianpaez/git/mokapot_worktree/auto_pin_handling/mokapot/tabular_data/csv.py:102: UserWarning: CSV file basic_python_api_output/mokapot/targets.psms.csv exists, but will be overwritten.\n",
      "  warnings.warn(\n",
      "/Users/sebastianpaez/git/mokapot_worktree/auto_pin_handling/mokapot/tabular_data/csv.py:102: UserWarning: CSV file basic_python_api_output/mokapot/targets.peptides.csv exists, but will be overwritten.\n",
      "  warnings.warn(\n",
      "/Users/sebastianpaez/git/mokapot_worktree/auto_pin_handling/mokapot/tabular_data/csv.py:102: UserWarning: CSV file basic_python_api_output/mokapot/targets.proteins.csv exists, but will be overwritten.\n",
      "  warnings.warn(\n"
     ]
    }
   ],
   "source": [
    "moka_conf = mokapot.assign_confidence(psms, dest_dir=mokapot_outs, proteins=proteins)\n"
   ]
  },
  {
   "cell_type": "code",
   "execution_count": 9,
   "metadata": {},
   "outputs": [
    {
     "data": {
      "text/plain": [
       "[Confidence object\n",
       " Dataset: \n",
       " \tOnDiskPsmDataset object\n",
       " \tReader: CSVFileReader(self.file_name=PosixPath('../../../data/phospho_rep1.pin'))\n",
       " \tSpectrum columns: ['ScanNr', 'ExpMass']\n",
       " \tPeptide column: Peptide\n",
       " \tProtein column: Proteins\n",
       " \tFeature columns: ['lnrSp', 'deltLCn', 'deltCn', 'Sp', 'IonFrac', 'RefactoredXCorr', 'NegLog10PValue', 'NegLog10ResEvPValue', 'NegLog10CombinePValue', 'PepLen', 'Charge1', 'Charge2', 'Charge3', 'Charge4', 'Charge5', 'enzN', 'enzC', 'enzInt', 'lnNumDSP', 'dM', 'absdM']\n",
       " \tMetadata columns: ['SpecId', 'ScanNr', 'Peptide', 'Proteins', 'Label', 'CalcMass', 'ExpMass']\n",
       " \tMetadata columns types: [dtype('O'), dtype('int64'), dtype('O'), dtype('O'), dtype('int64'), dtype('float64'), dtype('float64')]\n",
       " \tLevel columns: ['Peptide']\n",
       " \tFilename column: None\n",
       " \tScan column: ScanNr\n",
       " \tCalcmass column: CalcMass\n",
       " \tExpmass column: ExpMass\n",
       " \tRt column: None\n",
       " \tCharge column: None\n",
       " \tSpectra DF: \n",
       " \t\tUnset\n",
       " \t\n",
       " Levels: ['psms', 'peptides', 'proteins']\n",
       " Level paths: {'psms': PosixPath('basic_python_api_output/mokapot/psms.csv'), 'peptides': PosixPath('basic_python_api_output/mokapot/peptides.csv'), 'proteins': PosixPath('basic_python_api_output/mokapot/proteins.csv')}\n",
       " Out writers: {'psms': [CSVFileWriter(self.file_name=PosixPath('basic_python_api_output/mokapot/targets.psms.csv'),self.columns=['PSMId', 'peptide', 'score', 'mokapot_qvalue', 'posterior_error_prob', 'proteinIds'],self.stdargs={'sep': '\\t', 'index': False})], 'peptides': [CSVFileWriter(self.file_name=PosixPath('basic_python_api_output/mokapot/targets.peptides.csv'),self.columns=['PSMId', 'peptide', 'score', 'mokapot_qvalue', 'posterior_error_prob', 'proteinIds'],self.stdargs={'sep': '\\t', 'index': False})], 'proteins': [CSVFileWriter(self.file_name=PosixPath('basic_python_api_output/mokapot/targets.proteins.csv'),self.columns=['mokapot protein group', 'best peptide', 'stripped sequence', 'score', 'mokapot_qvalue', 'posterior_error_prob'],self.stdargs={'sep': '\\t', 'index': False})]}\n",
       " Eval FDR: 0.01\n",
       " Write decoys: False\n",
       " Do rollup: True\n",
       " Peps error: False\n",
       " Rng: 0\n",
       " Score stats: OnlineStatistics(min=-4.48121575197243, max=11.092598293745384, n=101599, sum=45383.74404487357, mean=0.4466947907447275, M2n=390155.2088566294, ddof=1, unbiased=True)]"
      ]
     },
     "execution_count": 9,
     "metadata": {},
     "output_type": "execute_result"
    }
   ],
   "source": [
    "moka_conf"
   ]
  },
  {
   "cell_type": "code",
   "execution_count": 10,
   "metadata": {},
   "outputs": [
    {
     "data": {
      "text/html": [
       "<div>\n",
       "<style scoped>\n",
       "    .dataframe tbody tr th:only-of-type {\n",
       "        vertical-align: middle;\n",
       "    }\n",
       "\n",
       "    .dataframe tbody tr th {\n",
       "        vertical-align: top;\n",
       "    }\n",
       "\n",
       "    .dataframe thead th {\n",
       "        text-align: right;\n",
       "    }\n",
       "</style>\n",
       "<table border=\"1\" class=\"dataframe\">\n",
       "  <thead>\n",
       "    <tr style=\"text-align: right;\">\n",
       "      <th></th>\n",
       "      <th>PSMId</th>\n",
       "      <th>peptide</th>\n",
       "      <th>score</th>\n",
       "      <th>mokapot_qvalue</th>\n",
       "      <th>posterior_error_prob</th>\n",
       "      <th>proteinIds</th>\n",
       "    </tr>\n",
       "  </thead>\n",
       "  <tbody>\n",
       "    <tr>\n",
       "      <th>0</th>\n",
       "      <td>target_0_51371_4_-1</td>\n",
       "      <td>K.KLHEEEIQELQAQIQEQHVQIDVDVSKPDLTAALR.D</td>\n",
       "      <td>11.092598</td>\n",
       "      <td>0.000079</td>\n",
       "      <td>6.305117e-16</td>\n",
       "      <td>sp|P08670|VIME_HUMAN</td>\n",
       "    </tr>\n",
       "    <tr>\n",
       "      <th>1</th>\n",
       "      <td>target_0_48845_5_-1</td>\n",
       "      <td>R.RGNVAGDSKNDPPMEAAGFTAQVIILNHPGQISAGYAPVLDCHT...</td>\n",
       "      <td>11.061756</td>\n",
       "      <td>0.000079</td>\n",
       "      <td>6.305117e-16</td>\n",
       "      <td>sp|P68104|EF1A1_HUMAN</td>\n",
       "    </tr>\n",
       "    <tr>\n",
       "      <th>2</th>\n",
       "      <td>target_0_41715_3_-1</td>\n",
       "      <td>K.ALGKYGPADVEDTTGSGATDSKDDDDIDLFGS[79.97]DDEEE...</td>\n",
       "      <td>10.039874</td>\n",
       "      <td>0.000079</td>\n",
       "      <td>6.305117e-16</td>\n",
       "      <td>sp|P24534|EF1B_HUMAN</td>\n",
       "    </tr>\n",
       "    <tr>\n",
       "      <th>3</th>\n",
       "      <td>target_0_54061_3_-1</td>\n",
       "      <td>K.YQFVREPEDEEEEEEEEEEDEDEDLEELEVLER.K</td>\n",
       "      <td>9.843314</td>\n",
       "      <td>0.000079</td>\n",
       "      <td>6.305117e-16</td>\n",
       "      <td>sp|Q9NQC3|RTN4_HUMAN</td>\n",
       "    </tr>\n",
       "    <tr>\n",
       "      <th>4</th>\n",
       "      <td>target_0_40746_5_-1</td>\n",
       "      <td>K.KLVHNALANLDGHPEDKPTHIIFGS[79.97]DS[79.97]ECE...</td>\n",
       "      <td>9.830909</td>\n",
       "      <td>0.000079</td>\n",
       "      <td>6.305117e-16</td>\n",
       "      <td>sp|Q76FK4|NOL8_HUMAN</td>\n",
       "    </tr>\n",
       "  </tbody>\n",
       "</table>\n",
       "</div>"
      ],
      "text/plain": [
       "                 PSMId                                            peptide  \\\n",
       "0  target_0_51371_4_-1            K.KLHEEEIQELQAQIQEQHVQIDVDVSKPDLTAALR.D   \n",
       "1  target_0_48845_5_-1  R.RGNVAGDSKNDPPMEAAGFTAQVIILNHPGQISAGYAPVLDCHT...   \n",
       "2  target_0_41715_3_-1  K.ALGKYGPADVEDTTGSGATDSKDDDDIDLFGS[79.97]DDEEE...   \n",
       "3  target_0_54061_3_-1              K.YQFVREPEDEEEEEEEEEEDEDEDLEELEVLER.K   \n",
       "4  target_0_40746_5_-1  K.KLVHNALANLDGHPEDKPTHIIFGS[79.97]DS[79.97]ECE...   \n",
       "\n",
       "       score  mokapot_qvalue  posterior_error_prob             proteinIds  \n",
       "0  11.092598        0.000079          6.305117e-16   sp|P08670|VIME_HUMAN  \n",
       "1  11.061756        0.000079          6.305117e-16  sp|P68104|EF1A1_HUMAN  \n",
       "2  10.039874        0.000079          6.305117e-16   sp|P24534|EF1B_HUMAN  \n",
       "3   9.843314        0.000079          6.305117e-16   sp|Q9NQC3|RTN4_HUMAN  \n",
       "4   9.830909        0.000079          6.305117e-16   sp|Q76FK4|NOL8_HUMAN  "
      ]
     },
     "execution_count": 10,
     "metadata": {},
     "output_type": "execute_result"
    }
   ],
   "source": [
    "moka_conf[0].peptides.head()"
   ]
  },
  {
   "cell_type": "code",
   "execution_count": 11,
   "metadata": {},
   "outputs": [
    {
     "data": {
      "text/html": [
       "<div>\n",
       "<style scoped>\n",
       "    .dataframe tbody tr th:only-of-type {\n",
       "        vertical-align: middle;\n",
       "    }\n",
       "\n",
       "    .dataframe tbody tr th {\n",
       "        vertical-align: top;\n",
       "    }\n",
       "\n",
       "    .dataframe thead th {\n",
       "        text-align: right;\n",
       "    }\n",
       "</style>\n",
       "<table border=\"1\" class=\"dataframe\">\n",
       "  <thead>\n",
       "    <tr style=\"text-align: right;\">\n",
       "      <th></th>\n",
       "      <th>mokapot protein group</th>\n",
       "      <th>best peptide</th>\n",
       "      <th>stripped sequence</th>\n",
       "      <th>score</th>\n",
       "      <th>mokapot_qvalue</th>\n",
       "      <th>posterior_error_prob</th>\n",
       "    </tr>\n",
       "  </thead>\n",
       "  <tbody>\n",
       "    <tr>\n",
       "      <th>0</th>\n",
       "      <td>sp|P08670|VIME_HUMAN</td>\n",
       "      <td>K.KLHEEEIQELQAQIQEQHVQIDVDVSKPDLTAALR.D</td>\n",
       "      <td>KLHEEEIQELQAQIQEQHVQIDVDVSKPDLTAALR</td>\n",
       "      <td>11.092598</td>\n",
       "      <td>0.000292</td>\n",
       "      <td>6.305117e-16</td>\n",
       "    </tr>\n",
       "    <tr>\n",
       "      <th>1</th>\n",
       "      <td>sp|P68104|EF1A1_HUMAN</td>\n",
       "      <td>R.RGNVAGDSKNDPPMEAAGFTAQVIILNHPGQISAGYAPVLDCHT...</td>\n",
       "      <td>RGNVAGDSKNDPPMEAAGFTAQVIILNHPGQISAGYAPVLDCHTAH...</td>\n",
       "      <td>11.061756</td>\n",
       "      <td>0.000292</td>\n",
       "      <td>6.305117e-16</td>\n",
       "    </tr>\n",
       "    <tr>\n",
       "      <th>2</th>\n",
       "      <td>sp|P24534|EF1B_HUMAN</td>\n",
       "      <td>K.ALGKYGPADVEDTTGSGATDSKDDDDIDLFGS[79.97]DDEEE...</td>\n",
       "      <td>ALGKYGPADVEDTTGSGATDSKDDDDIDLFGSDDEEESEEAK</td>\n",
       "      <td>10.039874</td>\n",
       "      <td>0.000292</td>\n",
       "      <td>6.305117e-16</td>\n",
       "    </tr>\n",
       "    <tr>\n",
       "      <th>3</th>\n",
       "      <td>sp|Q9NQC3|RTN4_HUMAN</td>\n",
       "      <td>K.YQFVREPEDEEEEEEEEEEDEDEDLEELEVLER.K</td>\n",
       "      <td>YQFVREPEDEEEEEEEEEEDEDEDLEELEVLER</td>\n",
       "      <td>9.843314</td>\n",
       "      <td>0.000292</td>\n",
       "      <td>6.305117e-16</td>\n",
       "    </tr>\n",
       "    <tr>\n",
       "      <th>4</th>\n",
       "      <td>sp|Q76FK4|NOL8_HUMAN</td>\n",
       "      <td>K.KLVHNALANLDGHPEDKPTHIIFGS[79.97]DS[79.97]ECE...</td>\n",
       "      <td>KLVHNALANLDGHPEDKPTHIIFGSDSECETEETSTQEQSHPGEEWVK</td>\n",
       "      <td>9.830909</td>\n",
       "      <td>0.000292</td>\n",
       "      <td>6.305117e-16</td>\n",
       "    </tr>\n",
       "  </tbody>\n",
       "</table>\n",
       "</div>"
      ],
      "text/plain": [
       "   mokapot protein group                                       best peptide  \\\n",
       "0   sp|P08670|VIME_HUMAN            K.KLHEEEIQELQAQIQEQHVQIDVDVSKPDLTAALR.D   \n",
       "1  sp|P68104|EF1A1_HUMAN  R.RGNVAGDSKNDPPMEAAGFTAQVIILNHPGQISAGYAPVLDCHT...   \n",
       "2   sp|P24534|EF1B_HUMAN  K.ALGKYGPADVEDTTGSGATDSKDDDDIDLFGS[79.97]DDEEE...   \n",
       "3   sp|Q9NQC3|RTN4_HUMAN              K.YQFVREPEDEEEEEEEEEEDEDEDLEELEVLER.K   \n",
       "4   sp|Q76FK4|NOL8_HUMAN  K.KLVHNALANLDGHPEDKPTHIIFGS[79.97]DS[79.97]ECE...   \n",
       "\n",
       "                                   stripped sequence      score  \\\n",
       "0                KLHEEEIQELQAQIQEQHVQIDVDVSKPDLTAALR  11.092598   \n",
       "1  RGNVAGDSKNDPPMEAAGFTAQVIILNHPGQISAGYAPVLDCHTAH...  11.061756   \n",
       "2         ALGKYGPADVEDTTGSGATDSKDDDDIDLFGSDDEEESEEAK  10.039874   \n",
       "3                  YQFVREPEDEEEEEEEEEEDEDEDLEELEVLER   9.843314   \n",
       "4   KLVHNALANLDGHPEDKPTHIIFGSDSECETEETSTQEQSHPGEEWVK   9.830909   \n",
       "\n",
       "   mokapot_qvalue  posterior_error_prob  \n",
       "0        0.000292          6.305117e-16  \n",
       "1        0.000292          6.305117e-16  \n",
       "2        0.000292          6.305117e-16  \n",
       "3        0.000292          6.305117e-16  \n",
       "4        0.000292          6.305117e-16  "
      ]
     },
     "execution_count": 11,
     "metadata": {},
     "output_type": "execute_result"
    }
   ],
   "source": [
    "moka_conf[0].proteins.head()"
   ]
  },
  {
   "cell_type": "markdown",
   "metadata": {},
   "source": [
    "We can also use mokapot assign confidence estimates based on the best original feature---the Tide combined p-value in this case---instead of using the learned scores:"
   ]
  },
  {
   "cell_type": "code",
   "execution_count": 12,
   "metadata": {},
   "outputs": [
    {
     "name": "stderr",
     "output_type": "stream",
     "text": [
      "/Users/sebastianpaez/git/mokapot_worktree/auto_pin_handling/mokapot/tabular_data/csv.py:102: UserWarning: CSV file basic_python_api_output/tide/targets.psms.csv exists, but will be overwritten.\n",
      "  warnings.warn(\n",
      "/Users/sebastianpaez/git/mokapot_worktree/auto_pin_handling/mokapot/tabular_data/csv.py:102: UserWarning: CSV file basic_python_api_output/tide/targets.peptides.csv exists, but will be overwritten.\n",
      "  warnings.warn(\n",
      "/Users/sebastianpaez/git/mokapot_worktree/auto_pin_handling/mokapot/tabular_data/csv.py:102: UserWarning: CSV file basic_python_api_output/tide/targets.proteins.csv exists, but will be overwritten.\n",
      "  warnings.warn(\n"
     ]
    }
   ],
   "source": [
    "# Brewing the data modifies the PSMs, so we need to make a a new\n",
    "# clean copy of our data.\n",
    "psms = mokapot.read_pin(pin_file, max_workers=1)\n",
    "tide_conf = mokapot.assign_confidence(psms, dest_dir=tide_outs,  proteins=proteins)"
   ]
  },
  {
   "cell_type": "markdown",
   "metadata": {},
   "source": [
    "## Step 4: Plot and save the results\n",
    "\n",
    "We've included some simple plotting utilities to help assess mokapot's perfomance. Let's see if the mokapot model improves upon the best feature, which is Tide's combined p-value: "
   ]
  },
  {
   "cell_type": "code",
   "execution_count": 13,
   "metadata": {},
   "outputs": [
    {
     "data": {
      "image/png": "[encoded data removed]",
      "text/plain": [
       "<Figure size 1200x400 with 3 Axes>"
      ]
     },
     "metadata": {},
     "output_type": "display_data"
    }
   ],
   "source": [
    "# Since we have lists but a single input file, we can just take the first\n",
    "# element\n",
    "tide_conf = tide_conf[0]\n",
    "moka_conf = moka_conf[0]\n",
    "\n",
    "\n",
    "fig, axs = plt.subplots(1, 3, figsize=(12, 4))\n",
    "colors = (\"#343131\", \"#24B8A0\")\n",
    "\n",
    "# Plot the performance:\n",
    "for ax, level in zip(axs, tide_conf.levels):\n",
    "    tide_conf.plot_qvalues(\n",
    "        level=level, c=colors[0], ax=ax, label=\"Tide combined p-value\"\n",
    "    )\n",
    "    moka_conf.plot_qvalues(level=level, c=colors[1], ax=ax, label=\"mokapot\")\n",
    "    ax.legend(frameon=False)\n",
    "\n",
    "plt.tight_layout()\n",
    "plt.show()"
   ]
  },
  {
   "cell_type": "markdown",
   "metadata": {},
   "source": [
    "Excellent. It looks like mokapot increased our power to detect a few hundred more PSMs and peptides at 1% FDR. We figure out the exact improvement by looking at the data:"
   ]
  },
  {
   "cell_type": "code",
   "execution_count": 14,
   "metadata": {},
   "outputs": [
    {
     "name": "stdout",
     "output_type": "stream",
     "text": [
      "PSMs gained by mokapot: 1128\n",
      "Peptides gained by mokapot: 888\n",
      "Proteins gained by mokapot: 86\n"
     ]
    }
   ],
   "source": [
    "# PSMs\n",
    "moka_psms = (moka_conf.psms[\"mokapot_qvalue\"] <= 0.01).sum()\n",
    "tide_psms = (tide_conf.psms[\"mokapot_qvalue\"] <= 0.01).sum()\n",
    "print(f\"PSMs gained by mokapot: {moka_psms - tide_psms}\")\n",
    "\n",
    "# Peptides\n",
    "moka_peps = (moka_conf.peptides[\"mokapot_qvalue\"] <= 0.01).sum()\n",
    "tide_peps = (tide_conf.peptides[\"mokapot_qvalue\"] <= 0.01).sum()\n",
    "print(f\"Peptides gained by mokapot: {moka_peps - tide_peps}\")\n",
    "\n",
    "# Proteins\n",
    "moka_prots = (moka_conf.proteins[\"mokapot_qvalue\"] <= 0.01).sum()\n",
    "tide_prots = (tide_conf.proteins[\"mokapot_qvalue\"] <= 0.01).sum()\n",
    "print(f\"Proteins gained by mokapot: {moka_prots - tide_prots}\")"
   ]
  },
  {
   "cell_type": "markdown",
   "metadata": {},
   "source": [
    "In prior versions of mokapor we had to save the results, now those get saved automatically\n",
    "during the confidence assignment.\n",
    "\n",
    "We can see where they are using the `level_paths` attribute of the confidence object."
   ]
  },
  {
   "cell_type": "code",
   "execution_count": 16,
   "metadata": {},
   "outputs": [
    {
     "data": {
      "text/plain": [
       "{'psms': PosixPath('basic_python_api_output/mokapot/psms.csv'),\n",
       " 'peptides': PosixPath('basic_python_api_output/mokapot/peptides.csv'),\n",
       " 'proteins': PosixPath('basic_python_api_output/mokapot/proteins.csv')}"
      ]
     },
     "execution_count": 16,
     "metadata": {},
     "output_type": "execute_result"
    }
   ],
   "source": [
    "moka_conf.level_paths"
   ]
  },
  {
   "cell_type": "markdown",
   "metadata": {},
   "source": [
    "## Wrapping up\n",
    "\n",
    "This vignette demonstrated the basic usage of mokapot's Python API. For more detail about any of the mokapot functions and classes that we used, see the [mokapot Python API documentation](https://mokapot.readthedocs.io/en/latest/api/index.html). Finally, check out the other vignettes for examples of advanced usage of mokapot's Python API."
   ]
  }
 ],
 "metadata": {
  "kernelspec": {
   "display_name": ".venv",
   "language": "python",
   "name": "python3"
  },
  "language_info": {
   "codemirror_mode": {
    "name": "ipython",
    "version": 3
   },
   "file_extension": ".py",
   "mimetype": "text/x-python",
   "name": "python",
   "nbconvert_exporter": "python",
   "pygments_lexer": "ipython3",
   "version": "3.11.11"
  }
 },
 "nbformat": 4,
 "nbformat_minor": 4
}
